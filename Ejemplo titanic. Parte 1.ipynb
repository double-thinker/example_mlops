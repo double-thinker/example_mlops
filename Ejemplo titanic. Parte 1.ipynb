{
 "cells": [
  {
   "cell_type": "markdown",
   "id": "1841aaec",
   "metadata": {},
   "source": [
    "# Instalación de dependencias"
   ]
  },
  {
   "cell_type": "code",
   "execution_count": null,
   "id": "d122600e",
   "metadata": {},
   "outputs": [],
   "source": [
    "import pickle\n",
    "import pandas as pd\n",
    "from sklearn.datasets import fetch_openml\n",
    "from sklearn.model_selection import train_test_split\n",
    "from sklearn.tree import DecisionTreeClassifier\n",
    "from sklearn.pipeline import Pipeline, make_pipeline\n",
    "from sklearn.compose import ColumnTransformer\n",
    "from sklearn.preprocessing import OneHotEncoder, StandardScaler\n",
    "from sklearn.impute import SimpleImputer"
   ]
  },
  {
   "cell_type": "markdown",
   "id": "1933f705",
   "metadata": {},
   "source": [
    "# Descarga de datos"
   ]
  },
  {
   "cell_type": "code",
   "execution_count": null,
   "id": "12a04c99",
   "metadata": {},
   "outputs": [],
   "source": [
    "X, y = fetch_openml(\"titanic\", version=1, as_frame=True, return_X_y=True)"
   ]
  },
  {
   "cell_type": "code",
   "execution_count": null,
   "id": "1528b50b",
   "metadata": {},
   "outputs": [],
   "source": [
    "X.head()"
   ]
  },
  {
   "cell_type": "code",
   "execution_count": null,
   "id": "8749a51f",
   "metadata": {},
   "outputs": [],
   "source": [
    "y.head()"
   ]
  },
  {
   "cell_type": "markdown",
   "id": "e3695d2b",
   "metadata": {},
   "source": [
    "# Preprocesamiento (debe estar dentro del pipeline) "
   ]
  },
  {
   "cell_type": "code",
   "execution_count": null,
   "id": "bf3faa69",
   "metadata": {},
   "outputs": [],
   "source": [
    "num_pipeline = Pipeline([\n",
    "    (\"imputer\", SimpleImputer()),\n",
    "    (\"ss\", StandardScaler())\n",
    "])\n",
    "\n",
    "ct = ColumnTransformer([\n",
    "    (\"cat\", OneHotEncoder(), [\"pclass\", \"sex\", \"embarked\"]),\n",
    "    (\"num\", num_pipeline, [\"age\",\"fare\"])\n",
    "])"
   ]
  },
  {
   "cell_type": "markdown",
   "id": "f720b6f8",
   "metadata": {},
   "source": [
    "# Creación del pipeline"
   ]
  },
  {
   "cell_type": "code",
   "execution_count": null,
   "id": "c9a0c74c",
   "metadata": {},
   "outputs": [],
   "source": [
    "pipeline = Pipeline([\n",
    "    (\"ct\", ct),\n",
    "    (\"model\", DecisionTreeClassifier())\n",
    "])\n",
    "\n",
    "pipeline"
   ]
  },
  {
   "cell_type": "markdown",
   "id": "7ac68e6e",
   "metadata": {},
   "source": [
    "# División train/test "
   ]
  },
  {
   "cell_type": "code",
   "execution_count": null,
   "id": "edc7775b",
   "metadata": {},
   "outputs": [],
   "source": [
    "from random import randint\n",
    "X_train, X_test, y_train, y_test = train_test_split(X, y, test_size=0.2, random_state=42)"
   ]
  },
  {
   "cell_type": "markdown",
   "id": "3c3c649f",
   "metadata": {},
   "source": [
    "# Entrenamiento "
   ]
  },
  {
   "cell_type": "code",
   "execution_count": null,
   "id": "1eefc08f",
   "metadata": {},
   "outputs": [],
   "source": [
    "pipeline.fit(X, y)"
   ]
  },
  {
   "cell_type": "markdown",
   "id": "549bd050",
   "metadata": {},
   "source": [
    "# Evaluación"
   ]
  },
  {
   "cell_type": "code",
   "execution_count": null,
   "id": "a8eb95ac-fd17-4a18-a945-5cb945e00b72",
   "metadata": {},
   "outputs": [],
   "source": [
    "from sklearn.metrics import accuracy_score\n",
    "\n",
    "y_pred_train = pipeline.predict(X_train)\n",
    "y_pred_test = pipeline.predict(X_test)"
   ]
  },
  {
   "cell_type": "code",
   "execution_count": null,
   "id": "d795d11b",
   "metadata": {},
   "outputs": [],
   "source": [
    "# Acc. en train\n",
    "accuracy_score(y_train, y_pred_train)"
   ]
  },
  {
   "cell_type": "code",
   "execution_count": null,
   "id": "c96136aa",
   "metadata": {},
   "outputs": [],
   "source": [
    "# Acc. en test\n",
    "accuracy_score(y_test, y_pred_test)"
   ]
  },
  {
   "cell_type": "markdown",
   "id": "cfdc42d8",
   "metadata": {},
   "source": [
    "# Serialización \n",
    "\n",
    "Guardar el modelo en un fichero (pickle)"
   ]
  },
  {
   "cell_type": "code",
   "execution_count": null,
   "id": "f86f70ba",
   "metadata": {},
   "outputs": [],
   "source": [
    "with open(\"titanic_model.pkl\", \"wb\") as f:\n",
    "    pickle.dump(pipeline, f)"
   ]
  }
 ],
 "metadata": {
  "kernelspec": {
   "display_name": "Python 3.10.4 64-bit",
   "language": "python",
   "name": "python3"
  },
  "language_info": {
   "codemirror_mode": {
    "name": "ipython",
    "version": 3
   },
   "file_extension": ".py",
   "mimetype": "text/x-python",
   "name": "python",
   "nbconvert_exporter": "python",
   "pygments_lexer": "ipython3",
   "version": "3.10.4"
  },
  "vscode": {
   "interpreter": {
    "hash": "3ad933181bd8a04b432d3370b9dc3b0662ad032c4dfaa4e4f1596c548f763858"
   }
  }
 },
 "nbformat": 4,
 "nbformat_minor": 5
}
