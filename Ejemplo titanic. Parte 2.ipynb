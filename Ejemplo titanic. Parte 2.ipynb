{
 "cells": [
  {
   "cell_type": "markdown",
   "id": "5154bc37",
   "metadata": {},
   "source": [
    "# Carga el modelo"
   ]
  },
  {
   "cell_type": "code",
   "execution_count": null,
   "id": "d122600e",
   "metadata": {},
   "outputs": [],
   "source": [
    "import pickle\n",
    "import pandas as pd\n"
   ]
  },
  {
   "cell_type": "code",
   "execution_count": null,
   "id": "33badcd8",
   "metadata": {},
   "outputs": [],
   "source": [
    "with open(\"titanic_model.pkl\", \"rb\") as f:\n",
    "    pipeline = pickle.load(f)"
   ]
  },
  {
   "cell_type": "markdown",
   "id": "c2e2e845",
   "metadata": {},
   "source": [
    "# Inferencia del modelo"
   ]
  },
  {
   "cell_type": "code",
   "execution_count": null,
   "id": "158b8c95",
   "metadata": {},
   "outputs": [],
   "source": [
    "pipeline.feature_names_in_"
   ]
  },
  {
   "cell_type": "markdown",
   "id": "d64bc7cb",
   "metadata": {},
   "source": [
    "**Ejercicio: rellena el ejemplo y obtén una inferencia positiva (resultado 1) y negativa (resultado 0)**\n",
    "\n",
    "Para encontrar buenos ejemplos mira el primer notebook para elegir valores adecuados (edad, sexo, ...)"
   ]
  },
  {
   "cell_type": "code",
   "execution_count": null,
   "id": "092a21c0",
   "metadata": {},
   "outputs": [],
   "source": [
    "# Rellena los valores sustituyendo \"None\"\n",
    "pipeline.predict(pd.DataFrame([{\n",
    "    \"pclass\": None,\n",
    "    \"sex\": None,\n",
    "    \"embarked\": None,\n",
    "    \"age\": None,\n",
    "    \"fare\": None,\n",
    "}]))"
   ]
  }
 ],
 "metadata": {
  "kernelspec": {
   "display_name": "Python 3.10.4 64-bit",
   "language": "python",
   "name": "python3"
  },
  "language_info": {
   "codemirror_mode": {
    "name": "ipython",
    "version": 3
   },
   "file_extension": ".py",
   "mimetype": "text/x-python",
   "name": "python",
   "nbconvert_exporter": "python",
   "pygments_lexer": "ipython3",
   "version": "3.10.4"
  },
  "vscode": {
   "interpreter": {
    "hash": "3ad933181bd8a04b432d3370b9dc3b0662ad032c4dfaa4e4f1596c548f763858"
   }
  }
 },
 "nbformat": 4,
 "nbformat_minor": 5
}
